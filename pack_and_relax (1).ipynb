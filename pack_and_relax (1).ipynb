{
  "cells": [
    {
      "cell_type": "markdown",
      "metadata": {
        "id": "U-wMv5qavYTT"
      },
      "source": [
        "# Packing and Relax\n",
        "Keywords: PackRotamersMover, FastRelax, MoveMapFactory, cartesian, ResidueSelector, NeighborhoodResidueSelector, CDRResidueSelector, TaskFactory, TaskOperation, InitializeFromCommandline, RestrictToRepacking, PreventRepackingRLT, OperateOnResidueSubsetOperation, SimpleMetric, SequenceMetric, clone()\n",
        "\n",
        "## Overview\n",
        "Here, you will learn how to optimize the side-chains of a protein.  In Rosetta, we call this `packing`.  We will use TaskFactories to control which residues are optimized. We will use this knowledge to refine a specific region of a protein."
      ]
    },
    {
      "cell_type": "code",
      "execution_count": null,
      "metadata": {
        "id": "kH_cbFGpvYTV"
      },
      "outputs": [],
      "source": [
        "# You have to rerun this cell each time you start a new notebook or do a \"factory reset\".\n",
        "import sys\n",
        "if 'google.colab' in sys.modules:\n",
        "    !pip install pyrosettacolabsetup\n",
        "    import pyrosettacolabsetup\n",
        "    pyrosettacolabsetup.mount_pyrosetta_install()\n",
        "    print (\"Notebook is set for PyRosetta use in Colab.  Have fun!\")"
      ]
    },
    {
      "cell_type": "markdown",
      "metadata": {
        "id": "KGxGZHJzvYTW"
      },
      "source": [
        "**Make sure you are in the directory with the pdb files:**\n"
      ]
    },
    {
      "cell_type": "code",
      "execution_count": null,
      "metadata": {
        "id": "EYC8OotHvYTW"
      },
      "outputs": [],
      "source": [
        "# cd into the right directory\n",
        "!cd google_drive/MyDrive/CodeSchool2024/"
      ]
    },
    {
      "cell_type": "markdown",
      "metadata": {
        "id": "ixfIwb0_vYTX"
      },
      "source": [
        "## Imports\n",
        "\n",
        "Before we begin, we must import some specific machinery from Rosetta.  Much of these tools are automatically imported when we do `from pyrosetta import *`, however, some are not. You should get into the habit of importing everything you need.  This will get you comfortable with the organization of Rosetta and make it easier to find tools that are beyond the scope of these workshops."
      ]
    },
    {
      "cell_type": "code",
      "execution_count": null,
      "metadata": {
        "id": "3S35ZG9CvYTX",
        "colab": {
          "base_uri": "https://localhost:8080/"
        },
        "outputId": "2034f2ea-2be0-4290-e811-90e545c7456d"
      },
      "outputs": [
        {
          "output_type": "stream",
          "name": "stderr",
          "text": [
            "<ipython-input-6-139d7cba2c77>:7: UserWarning: Import of 'rosetta' as a top-level module is deprecated and may be removed in 2018, import via 'pyrosetta.rosetta'.\n",
            "  from rosetta.core.kinematics import MoveMap\n"
          ]
        }
      ],
      "source": [
        "#Python\n",
        "from pyrosetta import *\n",
        "from pyrosetta.rosetta import *\n",
        "from pyrosetta.teaching import *\n",
        "\n",
        "#Core Includes\n",
        "from rosetta.core.kinematics import MoveMap\n",
        "from rosetta.core.kinematics import FoldTree\n",
        "from rosetta.core.pack.task import TaskFactory\n",
        "from rosetta.core.pack.task import operation\n",
        "from rosetta.core.simple_metrics import metrics\n",
        "from rosetta.core.select import residue_selector as selections\n",
        "from rosetta.core import select\n",
        "from rosetta.core.select.movemap import *\n",
        "\n",
        "#Protocol Includes\n",
        "from rosetta.protocols import minimization_packing as pack_min\n",
        "from rosetta.protocols import relax as rel\n",
        "from rosetta.protocols.antibody.residue_selector import CDRResidueSelector\n",
        "from rosetta.protocols.antibody import *\n",
        "from rosetta.protocols.loops import *\n",
        "from rosetta.protocols.relax import FastRelax\n"
      ]
    },
    {
      "cell_type": "markdown",
      "metadata": {
        "id": "IBgfIN24vYTX"
      },
      "source": [
        "## Initialization\n",
        "\n",
        "Here, we will use command-line options to set the relax rounds to 2 instead of default 5 for speed of demo.  This is a bit tricky to do in code.\n",
        "We also set the input antibody numbering scheme so that Rosetta understands the nomenclature of our antibody.\n",
        "\n",
        "\n",
        "Note that typically, we would add these options: `-ex1` and `-ex2` in order to increase the amount of rotamers\n",
        " available for packing, but this will slow us down for the demo, so we are keeping this out. These flags allow for a larger sample space of chi dihedral angles to be searched."
      ]
    },
    {
      "cell_type": "code",
      "execution_count": null,
      "metadata": {
        "id": "X8Y1k-R9vYTX",
        "colab": {
          "base_uri": "https://localhost:8080/"
        },
        "outputId": "4ac6c843-1a21-430b-d899-0a0f5bf53c74"
      },
      "outputs": [
        {
          "output_type": "stream",
          "name": "stdout",
          "text": [
            "┌──────────────────────────────────────────────────────────────────────────────┐\n",
            "│                                 PyRosetta-4                                  │\n",
            "│              Created in JHU by Sergey Lyskov and PyRosetta Team              │\n",
            "│              (C) Copyright Rosetta Commons Member Institutions               │\n",
            "│                                                                              │\n",
            "│ NOTE: USE OF PyRosetta FOR COMMERCIAL PURPOSES REQUIRE PURCHASE OF A LICENSE │\n",
            "│         See LICENSE.PyRosetta.md or email license@uw.edu for details         │\n",
            "└──────────────────────────────────────────────────────────────────────────────┘\n",
            "PyRosetta-4 2024 [Rosetta PyRosetta4.MinSizeRel.python310.ubuntu 2024.19+release.a34b73c40fe9c61558d566d6a63f803cfb15a4fc 2024-05-02T16:22:03] retrieved from: http://www.pyrosetta.org\n",
            "core.init: Rosetta version: PyRosetta4.MinSizeRel.python310.ubuntu r381 2024.19+release.a34b73c40f a34b73c40fe9c61558d566d6a63f803cfb15a4fc http://www.pyrosetta.org 2024-05-02T16:22:03\n",
            "core.init: Rosetta extras: []\n",
            "core.init: command: PyRosetta -use_input_sc -input_ab_scheme AHo_Scheme -ignore_unrecognized_res -ignore_zero_occupancy false -load_PDB_components false -relax:default_repeats 2 -no_fconfig -database /usr/local/lib/python3.10/dist-packages/pyrosetta/database\n",
            "basic.random.init_random_generator: 'RNG device' seed mode, using '/dev/urandom', seed=938769010 seed_offset=0 real_seed=938769010\n",
            "basic.random.init_random_generator: RandomGenerator:init: Normal mode, seed=938769010 RG_type=mt19937\n"
          ]
        }
      ],
      "source": [
        "init('-use_input_sc -input_ab_scheme AHo_Scheme -ignore_unrecognized_res \\\n",
        "     -ignore_zero_occupancy false -load_PDB_components false -relax:default_repeats 2 -no_fconfig')"
      ]
    },
    {
      "cell_type": "markdown",
      "metadata": {
        "id": "VRRj0_WuvYTY"
      },
      "source": [
        "## Import and copy pose\n",
        "\n",
        "Begin by importing a pose.  Here, we are going to use an antibody from the PDB.\n",
        "Note that we use the clone function to copy the pose into `original_pose`. Using the equal sign will only make what is known as a shallow copy in python and anything we do to pose will be seen in original_pose.  The clone operation copies all the data into the original_pose and is the Rosetta equivalent of the python module, `copy.deep_copy`."
      ]
    },
    {
      "cell_type": "code",
      "execution_count": null,
      "metadata": {
        "id": "4QbsRCjbvYTY",
        "colab": {
          "base_uri": "https://localhost:8080/"
        },
        "outputId": "b54f4643-7dcd-4ba7-9165-ce7bb4c0e79a"
      },
      "outputs": [
        {
          "output_type": "stream",
          "name": "stdout",
          "text": [
            "core.chemical.GlobalResidueTypeSet: Finished initializing fa_standard residue type set.  Created 985 residue types\n",
            "core.chemical.GlobalResidueTypeSet: Total time to initialize 0.745742 seconds.\n",
            "core.import_pose.import_pose: File 'google_drive/MyDrive/CodeSchool2024/inputs/2r0l_1_1.pdb' automatically determined to be of type PDB\n",
            "core.conformation.Conformation: [ WARNING ] missing heavyatom:  OXT on residue ARG:CtermProteinFull 108\n",
            "core.conformation.Conformation: [ WARNING ] missing heavyatom:  OXT on residue SER:CtermProteinFull 225\n",
            "core.conformation.Conformation: [ WARNING ] missing heavyatom:  OXT on residue ARG:CtermProteinFull 464\n",
            "core.conformation.Conformation: Found disulfide between residues 23 88\n",
            "core.conformation.Conformation: Found disulfide between residues 130 204\n",
            "core.conformation.Conformation: Found disulfide between residues 250 266\n",
            "core.conformation.Conformation: Found disulfide between residues 258 328\n",
            "core.conformation.Conformation: Found disulfide between residues 353 422\n",
            "core.conformation.Conformation: Found disulfide between residues 385 401\n",
            "core.conformation.Conformation: Found disulfide between residues 412 440\n"
          ]
        }
      ],
      "source": [
        "#Import a pose (the 2r0l_1_1.pdb)\n",
        "pose = pyrosetta.pose_from_file(\"google_drive/MyDrive/CodeSchool2024/inputs/2r0l_1_1.pdb\")\n",
        "\n",
        "# YOUR CODE HERE\n",
        "def clone(self):                                                            #didn't need it\n",
        "  return Pose(self.position.copy(), self.orientation.copy())                #didn't need it\n",
        "\n",
        "original_pose = pose.clone()\n",
        "\n",
        "# YOUR CODE HERE\n",
        "#raise NotImplementedError()"
      ]
    },
    {
      "cell_type": "markdown",
      "metadata": {
        "id": "PQVGquPUvYTY"
      },
      "source": [
        "## Setup a Normal TaskFactory\n",
        "\n",
        "A `TaskFactory` is what we use to control packing specific residues in a pose. We first pass InitializeFromCommandLine which uses any of the options specified in the `pyrosetta.init()` function.\n",
        "\n",
        "The `TaskFactory` is made up of a list of `TaskOperations`. These Taskops make up the bread and butter of controlling packing (and subsequently design). The taskops can be given to factory in any order.  \n",
        "\n",
        "In Rosetta, ALL residues are set to both pack AND design by default. We use taskops to turn things off, like creating an ice sculpture.  Here, we turn design off by using the `RestrictToRepacking` operation."
      ]
    },
    {
      "cell_type": "code",
      "execution_count": null,
      "metadata": {
        "scrolled": true,
        "id": "FDxBXLZVvYTY"
      },
      "outputs": [],
      "source": [
        "# intialize a taskfactory then add the InitializeFromCommandline() operation and the RestrictToRepacking() operation!\n",
        "from rosetta.protocols.minimization_packing import PackRotamersMover\n",
        "from rosetta.core.pack.task import TaskFactory\n",
        "from rosetta.core.pack.task import operation\n",
        "\n",
        "packer = PackRotamersMover()\n",
        "tf = TaskFactory()\n",
        "tf.push_back(operation.InitializeFromCommandline())\n",
        "tf.push_back(operation.RestrictToRepacking())\n",
        "\n",
        "\n",
        "\n",
        "# YOUR CODE HERE\n",
        "\n",
        "#raise NotImplementedError()"
      ]
    },
    {
      "cell_type": "markdown",
      "metadata": {
        "id": "uYjA2FfDvYTZ"
      },
      "source": [
        "## Setup The Packer\n",
        "\n",
        "Here, we setup the packer and pass the TaskFactory to it.  In general, if something can be packed, it will accept a TaskFactory.  Every time the protein is packed for a single round, the TaskFactory will generate what is called the PackerTask.  This object has all of the instructions needed for Rosetta to do packing and design.  Some TaskOperations can respond to environmental changes in the pose, such as neighboring residues and dynamically change at each packing step.  This is one of the reasons we use the TaskFactory machinery to setup packing instead of hacking the PackerTask itself as has been done in some of the earlier tutorials you may see on the web."
      ]
    },
    {
      "cell_type": "code",
      "execution_count": null,
      "metadata": {
        "id": "Y7ruAvPNvYTZ",
        "colab": {
          "base_uri": "https://localhost:8080/"
        },
        "outputId": "c44f0b2c-ffd5-40fb-bb06-9dd86ee6a6ff"
      },
      "outputs": [
        {
          "output_type": "stream",
          "name": "stdout",
          "text": [
            "protocols.minimization_packing.PackRotamersMover: [ WARNING ] undefined ScoreFunction -- creating a default one\n",
            "core.scoring.ScoreFunctionFactory: SCOREFUNCTION: ref2015\n",
            "core.scoring.etable: Starting energy table calculation\n",
            "core.scoring.etable: smooth_etable: changing atr/rep split to bottom of energy well\n",
            "core.scoring.etable: smooth_etable: spline smoothing lj etables (maxdis = 6)\n",
            "core.scoring.etable: smooth_etable: spline smoothing solvation etables (max_dis = 6)\n",
            "core.scoring.etable: Finished calculating energy tables.\n",
            "basic.io.database: Database file opened: scoring/score_functions/hbonds/ref2015_params/HBPoly1D.csv\n",
            "basic.io.database: Database file opened: scoring/score_functions/hbonds/ref2015_params/HBFadeIntervals.csv\n",
            "basic.io.database: Database file opened: scoring/score_functions/hbonds/ref2015_params/HBEval.csv\n",
            "basic.io.database: Database file opened: scoring/score_functions/hbonds/ref2015_params/DonStrength.csv\n",
            "basic.io.database: Database file opened: scoring/score_functions/hbonds/ref2015_params/AccStrength.csv\n",
            "basic.io.database: Database file opened: scoring/score_functions/rama/fd/all.ramaProb\n",
            "basic.io.database: Database file opened: scoring/score_functions/rama/fd/prepro.ramaProb\n",
            "basic.io.database: Database file opened: scoring/score_functions/omega/omega_ppdep.all.txt\n",
            "basic.io.database: Database file opened: scoring/score_functions/omega/omega_ppdep.gly.txt\n",
            "basic.io.database: Database file opened: scoring/score_functions/omega/omega_ppdep.pro.txt\n",
            "basic.io.database: Database file opened: scoring/score_functions/omega/omega_ppdep.valile.txt\n",
            "basic.io.database: Database file opened: scoring/score_functions/P_AA_pp/P_AA\n",
            "basic.io.database: Database file opened: scoring/score_functions/P_AA_pp/P_AA_n\n",
            "core.scoring.P_AA: shapovalov_lib::shap_p_aa_pp_smooth_level of 1( aka low_smooth ) got activated.\n",
            "basic.io.database: Database file opened: scoring/score_functions/P_AA_pp/shapovalov/10deg/kappa131/a20.prop\n",
            "core.pack.task: Packer task: initialize from command line()\n",
            "basic.io.database: Database file opened: scoring/score_functions/elec_cp_reps.dat\n",
            "core.scoring.elec.util: Read 40 countpair representative atoms\n",
            "core.pack.dunbrack.RotamerLibrary: shapovalov_lib_fixes_enable option is true.\n",
            "core.pack.dunbrack.RotamerLibrary: shapovalov_lib::shap_dun10_smooth_level of 1( aka lowest_smooth ) got activated.\n",
            "core.pack.dunbrack.RotamerLibrary: Binary rotamer library selected: /usr/local/lib/python3.10/dist-packages/pyrosetta/database/rotamer/shapovalov/StpDwn_0-0-0/Dunbrack10.lib.bin\n",
            "core.pack.dunbrack.RotamerLibrary: Using Dunbrack library binary file '/usr/local/lib/python3.10/dist-packages/pyrosetta/database/rotamer/shapovalov/StpDwn_0-0-0/Dunbrack10.lib.bin'.\n",
            "core.pack.dunbrack.RotamerLibrary: Dunbrack 2010 library took 0.289425 seconds to load from binary\n",
            "core.pack.pack_rotamers: built 6678 rotamers at 464 positions.\n",
            "core.pack.interaction_graph.interaction_graph_factory: Instantiating DensePDInteractionGraph\n"
          ]
        },
        {
          "output_type": "execute_result",
          "data": {
            "text/plain": [
              "True"
            ]
          },
          "metadata": {},
          "execution_count": 10
        }
      ],
      "source": [
        "# define a packer by using pack_min.PackRotamersMover()\n",
        "\n",
        "packer = pack_min.PackRotamersMover()\n",
        "\n",
        "# add the task factory (tf) to the packer\n",
        "\n",
        "packer.task_factory(tf)\n",
        "\n",
        "# Note that we are not passing a scorefunction here.  We will use the default, cmd-line scorefunction, (the ref2015 function)\n",
        "# which is accessed through rosetta.core.scoring.get_score_function() and part of the packer.  We use use a scorefunction later.\n",
        "\n",
        "# Run the packer. (Note this may take a few minutes)\n",
        "if not os.getenv(\"DEBUG\"):\n",
        "    packer.apply(pose)\n",
        "\n",
        "#Dump the PDB\n",
        "# YOUR CODE HERE\n",
        "pose.dump_pdb(\"google_drive/MyDrive/CodeSchool2024/inputs/tf_2r0l_1_1.pdb\")"
      ]
    },
    {
      "cell_type": "markdown",
      "metadata": {
        "id": "V0fVbb0_vYTZ"
      },
      "source": [
        "Lets compare the energies of the before and after pose. Any difference?"
      ]
    },
    {
      "cell_type": "code",
      "execution_count": null,
      "metadata": {
        "id": "PpQ6Nk4BvYTZ",
        "colab": {
          "base_uri": "https://localhost:8080/"
        },
        "outputId": "8f139375-d261-4705-a091-baf078edd44c"
      },
      "outputs": [
        {
          "output_type": "stream",
          "name": "stdout",
          "text": [
            "core.scoring.ScoreFunctionFactory: SCOREFUNCTION: ref2015\n",
            "core.import_pose.import_pose: File 'google_drive/MyDrive/CodeSchool2024/inputs/tf_2r0l_1_1.pdb' automatically determined to be of type PDB\n",
            "core.conformation.Conformation: Found disulfide between residues 23 88\n",
            "core.conformation.Conformation: Found disulfide between residues 130 204\n",
            "core.conformation.Conformation: Found disulfide between residues 250 266\n",
            "core.conformation.Conformation: Found disulfide between residues 258 328\n",
            "core.conformation.Conformation: Found disulfide between residues 353 422\n",
            "core.conformation.Conformation: Found disulfide between residues 385 401\n",
            "core.conformation.Conformation: Found disulfide between residues 412 440\n",
            "-1037.9694515225958\n",
            "-1038.3442186401237\n"
          ]
        }
      ],
      "source": [
        "# initialize the all-atom score function\n",
        "scorefxn = get_score_function(True)\n",
        "\n",
        "\n",
        "# YOUR CODE HERE\n",
        "#print(sfxn)\n",
        "\n",
        "# Finish the code here\n",
        "# YOUR CODE HERE\n",
        "pose2 = pyrosetta.pose_from_file(\"google_drive/MyDrive/CodeSchool2024/inputs/tf_2r0l_1_1.pdb\")\n",
        "\n",
        "\n",
        "# print the after and before energies\n",
        "# YOUR CODE HERE\n",
        "\n",
        "print(scorefxn(pose))\n",
        "print(scorefxn(pose2))\n",
        "\n",
        "# which one has a lower energy? does this make sense? why?\n",
        "# The packed pose has the lower energy which makes sense since the point of the packing is to minimize the energy"
      ]
    },
    {
      "cell_type": "markdown",
      "metadata": {
        "id": "TTnP8L0wvYTZ"
      },
      "source": [
        "Check the sequence of the pose and the original pose. Make sure that the poses have the same sequence - as packing is just design using single residue rotamers."
      ]
    },
    {
      "cell_type": "code",
      "execution_count": null,
      "metadata": {
        "nbgrader": {
          "grade": true,
          "grade_id": "cell-3f3595454808dd5f",
          "locked": false,
          "points": 0,
          "schema_version": 3,
          "solution": true,
          "task": false
        },
        "id": "edYDYE7lvYTZ",
        "colab": {
          "base_uri": "https://localhost:8080/",
          "height": 72
        },
        "outputId": "006d1bda-1598-4756-f6b1-810d386e3a16"
      },
      "outputs": [
        {
          "output_type": "execute_result",
          "data": {
            "text/plain": [
              "'DIQMTQSPSSLSASVGDRVTITCRASQDVSTAVAWYQQKPGKAPKLLIYSASFLYSGVPSRFSGSGSGTDFTLTISSLQPEDFATYYCQQSYTTPPTFGQGTKVEIKREVQLVESGGGLVQPGGSLRLSCAASGFTISNSGIHWVRQAPGKGLEWVGWIYPTGGATDYADSVKGRFTISADTSKNTAYLQMNSLRAEDTAVYYCARFWWRSFDYWGQGTLVTVSSIIGGSSSLPGSHPWLAAIYIGDSFCAGSLVHTCWVVSAAHCFSHSPPRDSVSVVLGQHFFNRTTDVTQTFGIEKYIPYTLYSVFNPSDHDLVLIRLKKKGDRCATRSQFVQPICLPEPGSTFPAGHKCQIAGWGHLDENVSGYSSSLREALVPLVADHKCSSPEVYGADISPNMLCAGYFDCKSDACQGDSGGPLACEKNGVAYLYGIISWGDGCGRLHKPGVYTRVANYVDWINDRIR'"
            ],
            "application/vnd.google.colaboratory.intrinsic+json": {
              "type": "string"
            }
          },
          "metadata": {},
          "execution_count": 13
        }
      ],
      "source": [
        "# YOUR CODE HERE\n",
        "\n",
        "pose.sequence()\n",
        "#pose2.sequence()"
      ]
    },
    {
      "cell_type": "code",
      "source": [
        "pose2.sequence()"
      ],
      "metadata": {
        "colab": {
          "base_uri": "https://localhost:8080/",
          "height": 72
        },
        "id": "9tOGbYHf4FV2",
        "outputId": "a8186469-b059-44a5-cb08-c856837b1cab"
      },
      "execution_count": null,
      "outputs": [
        {
          "output_type": "execute_result",
          "data": {
            "text/plain": [
              "'DIQMTQSPSSLSASVGDRVTITCRASQDVSTAVAWYQQKPGKAPKLLIYSASFLYSGVPSRFSGSGSGTDFTLTISSLQPEDFATYYCQQSYTTPPTFGQGTKVEIKREVQLVESGGGLVQPGGSLRLSCAASGFTISNSGIHWVRQAPGKGLEWVGWIYPTGGATDYADSVKGRFTISADTSKNTAYLQMNSLRAEDTAVYYCARFWWRSFDYWGQGTLVTVSSIIGGSSSLPGSHPWLAAIYIGDSFCAGSLVHTCWVVSAAHCFSHSPPRDSVSVVLGQHFFNRTTDVTQTFGIEKYIPYTLYSVFNPSDHDLVLIRLKKKGDRCATRSQFVQPICLPEPGSTFPAGHKCQIAGWGHLDENVSGYSSSLREALVPLVADHKCSSPEVYGADISPNMLCAGYFDCKSDACQGDSGGPLACEKNGVAYLYGIISWGDGCGRLHKPGVYTRVANYVDWINDRIR'"
            ],
            "application/vnd.google.colaboratory.intrinsic+json": {
              "type": "string"
            }
          },
          "metadata": {},
          "execution_count": 14
        }
      ]
    },
    {
      "cell_type": "code",
      "source": [
        "pose.sequence == pose2.sequence"
      ],
      "metadata": {
        "colab": {
          "base_uri": "https://localhost:8080/"
        },
        "id": "ngCbnuFz4sGD",
        "outputId": "1727915e-e6e8-4347-d918-441148956976"
      },
      "execution_count": null,
      "outputs": [
        {
          "output_type": "execute_result",
          "data": {
            "text/plain": [
              "False"
            ]
          },
          "metadata": {},
          "execution_count": 15
        }
      ]
    },
    {
      "cell_type": "markdown",
      "metadata": {
        "id": "uDq5qPJRvYTZ"
      },
      "source": [
        "## Regional Packing\n",
        "\n",
        "Lets pack just a single CDR loop. If you don't know what a CDR loop is, look it up and edit this text box with the definition. Complementarity-determining regions (CDRs) are antibody loops that make up the antigen binding site. How do we do this?  Use a `TaskFactory` and a `TaskOperation`.  \n",
        "  To make things easier, we will use a `ResidueSelector` to select the CDR. You will see more of this later.\n",
        "  Briefly, a ResidueSelector returns a boolean vector that is the length of the pose. Each boolean is an indication of whether the residue was selected or not.  Because the vector is the same length of the pose, the index is the residue number.  There are many `ResidueSelectors` in rosetta, including ones for `AND` and `OR` operations to combine them.  Note where most of them come from above: `from rosetta.core.select import residue_selector as selections`\n",
        "\n",
        "### Make selection using the CDRResidueSelector and NeighborhoodResidueSelector\n",
        "\n",
        "We will use the NeighborhoodResidueSelector to pack the CDR loop and its surrounding neighbors, which defaults to 6 angstroms.  Each time we pack, the TaskFactory will be used to generate packing instructions (`PackerTask`) - and subsequently, the neighbors that we are packing will be updated each time to reflect this changing state of the pose."
      ]
    },
    {
      "cell_type": "code",
      "execution_count": null,
      "metadata": {
        "id": "ndIdIRSqvYTa",
        "colab": {
          "base_uri": "https://localhost:8080/"
        },
        "outputId": "04c33c58-8c99-46c4-816f-eaa30a5e16f6"
      },
      "outputs": [
        {
          "output_type": "stream",
          "name": "stdout",
          "text": [
            "None\n"
          ]
        }
      ],
      "source": [
        "nbr_selector = selections.NeighborhoodResidueSelector()\n",
        "cdr_selector = CDRResidueSelector()\n",
        "print(cdr_selector.set_cdr(h1))"
      ]
    },
    {
      "cell_type": "markdown",
      "metadata": {
        "id": "pxlJLbScvYTa"
      },
      "source": [
        "Note that h1 is what is called an enum.  It is a named integer.  This is better than passing around strings,\n",
        " and you will start to see many of these around Rosetta. They were imported when we imported the antibody namespace at\n",
        " the top of this workshop. Score terms such as fa_dun are also enums."
      ]
    },
    {
      "cell_type": "code",
      "execution_count": null,
      "metadata": {
        "id": "Tl7_FprXvYTa",
        "colab": {
          "base_uri": "https://localhost:8080/"
        },
        "outputId": "d634f771-6021-4b0b-aad4-4861ec49fd4c"
      },
      "outputs": [
        {
          "output_type": "stream",
          "name": "stdout",
          "text": [
            "None\n",
            "None\n"
          ]
        }
      ],
      "source": [
        "print(nbr_selector.set_focus_selector(cdr_selector))\n",
        "print(nbr_selector.set_include_focus_in_subset(True))"
      ]
    },
    {
      "cell_type": "markdown",
      "metadata": {
        "id": "pDGKxTLrvYTa"
      },
      "source": [
        "### Restrict to our selection\n",
        "\n",
        "Lets turn off packing for everything but the H1 loop and its neighbors. By using a TF, every time packing is done,\n",
        "  we regenerate the neighbors.  Using the NeighborhoodResidueSelector we actually use the pose energies object that\n",
        "  has a list of neighbors instead of doing an N by N calculation each time!\n",
        "  \n",
        "In order to do this, we create what is known as a Residue Level Task Operation, or RLT, and then pass that into the `OperateOnResidueSubset`.  Use your tab completion to see how many RLTs there are."
      ]
    },
    {
      "cell_type": "code",
      "source": [
        "prevent_repacking_rlt = operation.PreventRepackingRLT()"
      ],
      "metadata": {
        "id": "g79uOG9W2JHD"
      },
      "execution_count": null,
      "outputs": []
    },
    {
      "cell_type": "code",
      "execution_count": null,
      "metadata": {
        "id": "xLKEo6vDvYTa"
      },
      "outputs": [],
      "source": [
        "#True indicates here that we are flipping the selection.  So that we are turning off everything but the CDR and\n",
        "#  its neighbors.\n",
        "\n",
        "prevent_subset_repacking = operation.OperateOnResidueSubset(prevent_repacking_rlt, nbr_selector, True )\n"
      ]
    },
    {
      "cell_type": "markdown",
      "metadata": {
        "id": "Lq40LnOhvYTa"
      },
      "source": [
        "Lets check to see what residues have been selected as the CDR, and then the CDR and its neighbors.  We will use this to make sure our PackerTask is setup properly"
      ]
    },
    {
      "cell_type": "code",
      "execution_count": null,
      "metadata": {
        "id": "lw1ZYIY9vYTa",
        "colab": {
          "base_uri": "https://localhost:8080/"
        },
        "outputId": "a31b4d9a-ecf4-4431-bc95-fe4d9d83688e"
      },
      "outputs": [
        {
          "output_type": "stream",
          "name": "stdout",
          "text": [
            "CDR\n",
            "basic.io.database: Database file opened: sampling/antibodies/cluster_center_dihedrals.txt\n",
            "protocols.antibody.AntibodyNumberingParser: Antibody numbering scheme definitions read successfully\n",
            "protocols.antibody.AntibodyNumberingParser: Antibody CDR definition read successfully\n",
            "antibody.AntibodyInfo: Successfully finished the CDR definition\n",
            "antibody.AntibodyInfo: AC Detecting Regular CDR H3 Stem Type\n",
            "antibody.AntibodyInfo: ARFWWRSFDYW\n",
            "antibody.AntibodyInfo: AC Finished Detecting Regular CDR H3 Stem Type: KINKED\n",
            "antibody.AntibodyInfo: AC Finished Detecting Regular CDR H3 Stem Type: Kink: 1 Extended: 0\n",
            "antibody.AntibodyInfo: Setting up CDR Cluster for H1\n",
            "protocols.antibody.cluster.CDRClusterMatcher: Length: 13 Omega: TTTTTTTTTTTTT\n",
            "antibody.AntibodyInfo: Setting up CDR Cluster for H2\n",
            "protocols.antibody.cluster.CDRClusterMatcher: Length: 10 Omega: TTTTTTTTTT\n",
            "antibody.AntibodyInfo: Setting up CDR Cluster for H3\n",
            "protocols.antibody.cluster.CDRClusterMatcher: Length: 10 Omega: TTTTTTTTTT\n",
            "antibody.AntibodyInfo: Setting up CDR Cluster for L1\n",
            "protocols.antibody.cluster.CDRClusterMatcher: Length: 11 Omega: TTTTTTTTTTT\n",
            "antibody.AntibodyInfo: Setting up CDR Cluster for L2\n",
            "protocols.antibody.cluster.CDRClusterMatcher: Length: 8 Omega: TTTTTTTT\n",
            "antibody.AntibodyInfo: Setting up CDR Cluster for L3\n",
            "protocols.antibody.cluster.CDRClusterMatcher: Length: 9 Omega: TTTTTTCTT\n",
            "134\n",
            "135\n",
            "136\n",
            "137\n",
            "138\n",
            "139\n",
            "140\n",
            "141\n",
            "142\n",
            "143\n",
            "\n",
            "CDR+Neighbors\n",
            "basic.io.database: Database file opened: sampling/antibodies/cluster_center_dihedrals.txt\n",
            "protocols.antibody.AntibodyNumberingParser: Antibody numbering scheme definitions read successfully\n",
            "protocols.antibody.AntibodyNumberingParser: Antibody CDR definition read successfully\n",
            "antibody.AntibodyInfo: Successfully finished the CDR definition\n",
            "antibody.AntibodyInfo: AC Detecting Regular CDR H3 Stem Type\n",
            "antibody.AntibodyInfo: ARFWWRSFDYW\n",
            "antibody.AntibodyInfo: AC Finished Detecting Regular CDR H3 Stem Type: KINKED\n",
            "antibody.AntibodyInfo: AC Finished Detecting Regular CDR H3 Stem Type: Kink: 1 Extended: 0\n",
            "antibody.AntibodyInfo: Setting up CDR Cluster for H1\n",
            "protocols.antibody.cluster.CDRClusterMatcher: Length: 13 Omega: TTTTTTTTTTTTT\n",
            "antibody.AntibodyInfo: Setting up CDR Cluster for H2\n",
            "protocols.antibody.cluster.CDRClusterMatcher: Length: 10 Omega: TTTTTTTTTT\n",
            "antibody.AntibodyInfo: Setting up CDR Cluster for H3\n",
            "protocols.antibody.cluster.CDRClusterMatcher: Length: 10 Omega: TTTTTTTTTT\n",
            "antibody.AntibodyInfo: Setting up CDR Cluster for L1\n",
            "protocols.antibody.cluster.CDRClusterMatcher: Length: 11 Omega: TTTTTTTTTTT\n",
            "antibody.AntibodyInfo: Setting up CDR Cluster for L2\n",
            "protocols.antibody.cluster.CDRClusterMatcher: Length: 8 Omega: TTTTTTTT\n",
            "antibody.AntibodyInfo: Setting up CDR Cluster for L3\n",
            "protocols.antibody.cluster.CDRClusterMatcher: Length: 9 Omega: TTTTTTCTT\n",
            "96\n",
            "109\n",
            "110\n",
            "111\n",
            "112\n",
            "130\n",
            "131\n",
            "132\n",
            "133\n",
            "134 CDR\n",
            "135 CDR\n",
            "136 CDR\n",
            "137 CDR\n",
            "138 CDR\n",
            "139 CDR\n",
            "140 CDR\n",
            "141 CDR\n",
            "142 CDR\n",
            "143 CDR\n",
            "144\n",
            "145\n",
            "155\n",
            "156\n",
            "157\n",
            "158\n",
            "159\n",
            "160\n",
            "161\n",
            "162\n",
            "163\n",
            "165\n",
            "167\n",
            "178\n",
            "180\n",
            "181\n",
            "182\n",
            "183\n",
            "184\n",
            "185\n",
            "186\n",
            "187\n",
            "203\n",
            "204\n",
            "205\n",
            "206\n",
            "207\n",
            "208\n",
            "212\n",
            "214\n",
            "215\n",
            "268\n",
            "269\n",
            "270\n",
            "302\n",
            "304\n",
            "305\n",
            "306\n",
            "307\n",
            "308\n",
            "309\n"
          ]
        }
      ],
      "source": [
        "#pose = pyrosetta.pose_from_pdb(\"google_drive/MyDrive/CodeSchool2024/inputs/2r0l_1_1.pdb\")\n",
        "\n",
        "cdr_res = []\n",
        "print(\"CDR\")\n",
        "for i in select.get_residue_set_from_subset(cdr_selector.apply(pose)):\n",
        "    print(i)\n",
        "    cdr_res.append(i)\n",
        "\n",
        "print(\"\\nCDR+Neighbors\")\n",
        "for i in select.get_residue_set_from_subset(nbr_selector.apply(pose)):\n",
        "    if i in cdr_res:\n",
        "        print(i,\"CDR\")\n",
        "    else:\n",
        "        print(i)\n"
      ]
    },
    {
      "cell_type": "markdown",
      "metadata": {
        "id": "yoq53RY-vYTa"
      },
      "source": [
        "### Reset the pose"
      ]
    },
    {
      "cell_type": "code",
      "execution_count": null,
      "metadata": {
        "id": "-ItbhsNzvYTa",
        "colab": {
          "base_uri": "https://localhost:8080/",
          "height": 418
        },
        "outputId": "97e3d6a2-a667-4bdb-a0ce-efcd2434e34c"
      },
      "outputs": [
        {
          "output_type": "stream",
          "name": "stdout",
          "text": [
            "core.import_pose.import_pose: File 'google_drive/MyDrive/CodeSchool2024/inputs/2r0l_1_1.pdb' automatically determined to be of type PDB\n",
            "core.conformation.Conformation: [ WARNING ] missing heavyatom:  OXT on residue ARG:CtermProteinFull 108\n",
            "core.conformation.Conformation: [ WARNING ] missing heavyatom:  OXT on residue SER:CtermProteinFull 225\n",
            "core.conformation.Conformation: [ WARNING ] missing heavyatom:  OXT on residue ARG:CtermProteinFull 464\n",
            "core.conformation.Conformation: Found disulfide between residues 23 88\n",
            "core.conformation.Conformation: Found disulfide between residues 130 204\n",
            "core.conformation.Conformation: Found disulfide between residues 250 266\n",
            "core.conformation.Conformation: Found disulfide between residues 258 328\n",
            "core.conformation.Conformation: Found disulfide between residues 353 422\n",
            "core.conformation.Conformation: Found disulfide between residues 385 401\n",
            "core.conformation.Conformation: Found disulfide between residues 412 440\n"
          ]
        },
        {
          "output_type": "error",
          "ename": "AttributeError",
          "evalue": "'pyrosetta.rosetta.core.pack.task.TaskFactory' object has no attribute 'prevent_subset_repacking'",
          "traceback": [
            "\u001b[0;31m---------------------------------------------------------------------------\u001b[0m",
            "\u001b[0;31mAttributeError\u001b[0m                            Traceback (most recent call last)",
            "\u001b[0;32m<ipython-input-23-b8aa099e80be>\u001b[0m in \u001b[0;36m<cell line: 18>\u001b[0;34m()\u001b[0m\n\u001b[1;32m     16\u001b[0m \u001b[0;31m#packer = PackRotamersMover()\u001b[0m\u001b[0;34m\u001b[0m\u001b[0;34m\u001b[0m\u001b[0m\n\u001b[1;32m     17\u001b[0m \u001b[0mtf\u001b[0m \u001b[0;34m=\u001b[0m \u001b[0mTaskFactory\u001b[0m\u001b[0;34m(\u001b[0m\u001b[0;34m)\u001b[0m\u001b[0;34m\u001b[0m\u001b[0;34m\u001b[0m\u001b[0m\n\u001b[0;32m---> 18\u001b[0;31m \u001b[0mtf\u001b[0m\u001b[0;34m.\u001b[0m\u001b[0mprevent_subset_repacking\u001b[0m\u001b[0;34m(\u001b[0m\u001b[0moperation\u001b[0m\u001b[0;34m.\u001b[0m\u001b[0mprevent_subset_repacking\u001b[0m\u001b[0;34m(\u001b[0m\u001b[0;34m)\u001b[0m\u001b[0;34m)\u001b[0m\u001b[0;34m\u001b[0m\u001b[0;34m\u001b[0m\u001b[0m\n\u001b[0m\u001b[1;32m     19\u001b[0m \u001b[0;34m\u001b[0m\u001b[0m\n\u001b[1;32m     20\u001b[0m \u001b[0;31m# YOUR CODE HERE\u001b[0m\u001b[0;34m\u001b[0m\u001b[0;34m\u001b[0m\u001b[0m\n",
            "\u001b[0;31mAttributeError\u001b[0m: 'pyrosetta.rosetta.core.pack.task.TaskFactory' object has no attribute 'prevent_subset_repacking'"
          ]
        }
      ],
      "source": [
        "# reset the pose by using .clone() as in the beginning of the notebook and create pose from the original_pose\n",
        "\n",
        "# YOUR CODE HERE\n",
        "\n",
        "pose = pyrosetta.pose_from_file(\"google_drive/MyDrive/CodeSchool2024/inputs/2r0l_1_1.pdb\")\n",
        "\n",
        "original_pose = pose.clone()\n",
        "\n",
        "# add the prevent_subset_repacking operation to the taskfactory\n",
        "\n",
        "# YOUR CODE HERE\n",
        "\n",
        "from rosetta.core.pack.task import TaskFactory\n",
        "from rosetta.core.pack.task import operation\n",
        "\n",
        "#packer = PackRotamersMover()\n",
        "tf = TaskFactory()\n",
        "tf.prevent_subset_repacking(operation.prevent_subset_repacking())\n",
        "\n",
        "# YOUR CODE HERE\n",
        "\n",
        "#raise NotImplementedError()\n",
        "\n",
        "# add the tf task factory to the packer\n",
        "\n",
        "#raise NotImplementedError()"
      ]
    },
    {
      "cell_type": "markdown",
      "metadata": {
        "id": "GyC1UePZvYTa"
      },
      "source": [
        "Before we start, lets take a look at our PackerTask.  Are we designing anything?  Does this match our selection?"
      ]
    },
    {
      "cell_type": "code",
      "execution_count": null,
      "metadata": {
        "id": "c0ZAkXS7vYTa"
      },
      "outputs": [],
      "source": [
        "print(tf.create_task_and_apply_taskoperations(pose))\n",
        "\n",
        "# YOUR ANSWER HERE\n",
        "# yes it does make sense since we turned design off above"
      ]
    },
    {
      "cell_type": "markdown",
      "metadata": {
        "id": "HfSaCZM2vYTa"
      },
      "source": [
        "Now lets Run the packer and dump the PDB.\n",
        "\n",
        "Note how many rotamers were used and how many positions were done."
      ]
    },
    {
      "cell_type": "code",
      "execution_count": null,
      "metadata": {
        "nbgrader": {
          "grade": true,
          "grade_id": "cell-08b16c378d66130f",
          "locked": false,
          "points": 0,
          "schema_version": 3,
          "solution": true
        },
        "id": "6xNc6k15vYTa"
      },
      "outputs": [],
      "source": [
        "\n",
        "# YOUR CODE HERE\n",
        "\n",
        "# Run the packer. (Note this may take a few minutes)\n",
        "raise NotImplementedError()\n",
        "\n",
        "#Dump the PDB\n",
        "raise NotImplementedError()\n"
      ]
    },
    {
      "cell_type": "markdown",
      "metadata": {
        "id": "sZCeArzgvYTa"
      },
      "source": [
        "## Design\n",
        "\n",
        "Lets design this CDR.   We already almost everything we need created, so lets do this!!\n",
        "\n",
        "Note, since we added the RestrictToRepacking TaskOperation to our original `TaskFactory`, we need to reset (clear) it."
      ]
    },
    {
      "cell_type": "code",
      "execution_count": null,
      "metadata": {
        "id": "QnFRz19hvYTb"
      },
      "outputs": [],
      "source": [
        "\n",
        "pose = original_pose.clone()\n",
        "\n",
        "tf.clear()\n",
        "tf.push_back(operation.InitializeFromCommandline())\n",
        "tf.push_back(prevent_subset_repacking)\n",
        "\n",
        "#Turn off design of neighbors\n",
        "nbr_selector2 = selections.NeighborhoodResidueSelector()\n",
        "nbr_selector2.set_focus_selector(cdr_selector)\n",
        "nbr_selector2.set_include_focus_in_subset(False)\n",
        "\n",
        "restrict_to_repack = operation.RestrictToRepackingRLT()\n",
        "prevent_nbr_design = operation.OperateOnResidueSubset(restrict_to_repack, nbr_selector2, False )\n",
        "tf.push_back(prevent_nbr_design)\n",
        "\n"
      ]
    },
    {
      "cell_type": "markdown",
      "metadata": {
        "id": "RrEjPAMKvYTb"
      },
      "source": [
        "Once again, lets check to make sure we have created the correct TaskFactory. You should now see that the CDRs we selected are set to design into any of the amino acids."
      ]
    },
    {
      "cell_type": "code",
      "execution_count": null,
      "metadata": {
        "id": "NIH_YucUvYTb"
      },
      "outputs": [],
      "source": [
        "print(tf.create_task_and_apply_taskoperations(pose))"
      ]
    },
    {
      "cell_type": "markdown",
      "metadata": {
        "id": "LwTkE03ovYTb"
      },
      "source": [
        "### Set and Run\n",
        "\n",
        "Set the new tf to the packer and run it. This will take a few minutes as for each CDR we packing rotamers for all 20 amino acids instead of just the native residue. Take note of how many rotamers are built compared to when we didn't do any design.\n",
        "\n",
        "Dump the PDB and take a look."
      ]
    },
    {
      "cell_type": "code",
      "execution_count": null,
      "metadata": {
        "nbgrader": {
          "grade": true,
          "grade_id": "cell-b968c1e06844bc48",
          "locked": false,
          "points": 0,
          "schema_version": 3,
          "solution": true
        },
        "id": "3Kjs56LnvYTb"
      },
      "outputs": [],
      "source": [
        "# clone the original_pose into pose\n",
        "\n",
        "# YOUR CODE HERE\n",
        "\n",
        "raise NotImplementedError()\n",
        "\n",
        "packer.task_factory(tf)\n",
        "\n",
        "# YOUR CODE HERE\n",
        "\n",
        "# Run the packer. (Note this may take a few minutes)\n",
        "raise NotImplementedError()\n",
        "\n",
        "#Dump the PDB\n",
        "raise NotImplementedError()\n"
      ]
    },
    {
      "cell_type": "markdown",
      "source": [
        "Do your pose and original pose have the same sequence now? is that what you would expect?"
      ],
      "metadata": {
        "id": "9djQGFTA6-fG"
      }
    },
    {
      "cell_type": "code",
      "source": [
        "# YOUR CODE HERE\n",
        "\n",
        "raise NotImplementedError()\n",
        "\n",
        "# YOUR ANSWER HERE"
      ],
      "metadata": {
        "id": "kj9TczFk7Ktq"
      },
      "execution_count": null,
      "outputs": []
    },
    {
      "cell_type": "markdown",
      "metadata": {
        "id": "wN934ERHvYTg"
      },
      "source": [
        "## Relax\n",
        "\n",
        "Lets first relax the whole protein.  This will take some time, so after you run it, take a break and stretch!  As usual, you can find the output in the `expected_outputs` directory of this directory.\n"
      ]
    },
    {
      "cell_type": "code",
      "execution_count": null,
      "metadata": {
        "id": "ichHb9NcvYTg"
      },
      "outputs": [],
      "source": [
        "\n",
        "pose = original_pose.clone()\n",
        "fr = FastRelax()\n",
        "\n",
        "#Here, we have to set a scorefunction or we segfault.\n",
        "#  Error checking is important, and protocols should use a default scorefunction. We will manage.\n",
        "\n",
        "fr.set_scorefxn(scorefxn)\n",
        "\n",
        "#Lets run this.  This takes a very long time, so we are going decrease the amount of minimization cycles we use.\n",
        "# This is generally only recommended for cartesian, but we just want everything to run fast at the moment.\n",
        "fr.max_iter(100)\n",
        "\n",
        "#Run the code\n",
        "\n",
        "#Dump the pdb and take a look.\n",
        "\n",
        "# YOUR CODE HERE\n",
        "\n",
        "raise NotImplementedError()\n",
        "\n",
        "# Dump PDB\n",
        "# YOUR CODE HERE\n",
        "\n",
        "raise NotImplementedError()"
      ]
    },
    {
      "cell_type": "markdown",
      "metadata": {
        "id": "WfkgpL7kvYTg"
      },
      "source": [
        "Check the energy difference here once again.  Note how low it is compared to simply packing\n",
        "\n",
        "delta = ?"
      ]
    },
    {
      "cell_type": "code",
      "execution_count": null,
      "metadata": {
        "nbgrader": {
          "grade": true,
          "grade_id": "cell-6ba91002ffac69a7",
          "locked": false,
          "points": 0,
          "schema_version": 3,
          "solution": true
        },
        "id": "yL8AqA_zvYTg"
      },
      "outputs": [],
      "source": [
        "# YOUR CODE HERE\n",
        "raise NotImplementedError()"
      ]
    },
    {
      "cell_type": "markdown",
      "metadata": {
        "id": "BZFIRAfZvYTg"
      },
      "source": [
        "### Regional Relax\n",
        "\n",
        "So that was fun, but what we really want is to optimize regions of the protein that we care about.\n",
        "  This can be tricky, so to start off, lets do the basic thing and see what happens.\n",
        "  \n",
        "We will use a `MoveMapFactory`, which allows us to use `ResidueSelectors`.  \n",
        "More information on the `MoveMapFactory` in terms of RosettaScripts, can be found here: https://www.rosettacommons.org/docs/latest/scripting_documentation/RosettaScripts/MoveMapFactories/MoveMapFactories-RosettaScripts\n",
        "\n",
        "The default is to have everything OFF first, and turn specific things on."
      ]
    },
    {
      "cell_type": "code",
      "execution_count": null,
      "metadata": {
        "id": "MOYjfCPivYTg"
      },
      "outputs": [],
      "source": [
        "\n",
        "pose = original_pose.clone()\n",
        "mmf = MoveMapFactory()\n",
        "\n",
        "#mm_enable and mm_disable are Enums (numbered variables) that come when we import the MMF\n",
        "mmf.add_bb_action(mm_enable, cdr_selector)\n",
        "#mmf.add_chi_action(mm_enable, cdr_selector) We are taking this out for speed.\n",
        "\n",
        "mm  = mmf.create_movemap_from_pose(pose)"
      ]
    },
    {
      "cell_type": "markdown",
      "metadata": {
        "id": "xZJjFFoEvYTg"
      },
      "source": [
        "Lets take a look at our `MoveMap` that the `MoveMapFactory` creates. Pass the movemap to `print()`  We should only have a few residues there.\n",
        "\n",
        "Here, we only want to pack the region and neighbors.  NOT all 500 residues!\n",
        "\n",
        "Lets use the cloned TaskFactory we used to repack the CDRs and neighbors, since we will be allowing the backbone of the CDRs to move."
      ]
    },
    {
      "cell_type": "code",
      "execution_count": null,
      "metadata": {
        "id": "9eSUvpdSvYTg"
      },
      "outputs": [],
      "source": [
        "fr.set_movemap_factory(mmf)\n",
        "fr.set_task_factory(pack_cdrs_and_neighbors_tf)"
      ]
    },
    {
      "cell_type": "markdown",
      "metadata": {
        "id": "rZ3P-5NmvYTg"
      },
      "source": [
        "Run this, take a break and then lets see the results.\n",
        "Dump the pose and take a look at it.  "
      ]
    },
    {
      "cell_type": "code",
      "execution_count": null,
      "metadata": {
        "nbgrader": {
          "grade": true,
          "grade_id": "cell-897997d6124746e0",
          "locked": false,
          "points": 0,
          "schema_version": 3,
          "solution": true
        },
        "id": "EMSGsFM4vYTg"
      },
      "outputs": [],
      "source": [
        "# YOUR CODE HERE\n",
        "raise NotImplementedError()\n",
        "\n",
        "# Dump PDB\n",
        "\n",
        "# YOUR CODE HERE\n",
        "raise NotImplementedError()"
      ]
    },
    {
      "cell_type": "markdown",
      "metadata": {
        "id": "MXy789a3vYTg"
      },
      "source": [
        "**What is wrong with this Pose???**\n",
        "\n",
        "\n",
        "Okay, so we know whats wrong here, right?  Right?\n",
        "The pose is moving too much where we don't want it. This is due to the FoldTree!\n",
        "  There are two fixes for this - modify the foldtree (using a Loop foldtree) or use cartesian-space refinement.\n",
        "  \n",
        "  Lets do the easier of the two - cartesian!\n",
        "  \n",
        " ### Regional Relax - Cartesian"
      ]
    },
    {
      "cell_type": "code",
      "execution_count": null,
      "metadata": {
        "id": "JwmcBVPUvYTg"
      },
      "outputs": [],
      "source": [
        "\n",
        "pose = original_pose.clone()\n",
        "cart_sf = create_score_function(\"ref2015_cart\")\n",
        "mmf.set_cartesian(True)\n",
        "fr.set_movemap_factory(mmf)\n",
        "fr.set_scorefxn(cart_sf)\n",
        "fr.cartesian(True)\n",
        "\n",
        "#This is a general recommendation for cartesian minimization - it lowers the number of maximum cycles.\n",
        "# More than this only increases time of protocol, but has little effect on energies/structure\n",
        "fr.max_iter(200)"
      ]
    },
    {
      "cell_type": "markdown",
      "metadata": {
        "id": "2A5JVfVlvYTh"
      },
      "source": [
        "Run relax Lets dump the pose and take a look again.  Does this look better?   How are the energies?"
      ]
    },
    {
      "cell_type": "code",
      "execution_count": null,
      "metadata": {
        "nbgrader": {
          "grade": true,
          "grade_id": "cell-f2b1c60beff8a6d8",
          "locked": false,
          "points": 0,
          "schema_version": 3,
          "solution": true
        },
        "id": "tO3NeqaGvYTh"
      },
      "outputs": [],
      "source": [
        "# YOUR CODE HERE\n",
        "raise NotImplementedError()\n",
        "\n",
        "# Dump PDB\n",
        "\n",
        "# YOUR CODE HERE\n",
        "raise NotImplementedError()"
      ]
    },
    {
      "cell_type": "code",
      "source": [
        "# how are the energies of the poses?\n",
        "\n",
        "# YOUR CODE HERE\n",
        "raise NotImplementedError()"
      ],
      "metadata": {
        "id": "5F7Qk22W86c2"
      },
      "execution_count": null,
      "outputs": []
    },
    {
      "cell_type": "markdown",
      "metadata": {
        "id": "SzbMwIzRvYTh"
      },
      "source": [
        "## Conclusions\n",
        "\n",
        "That should get you started with packing/relax!\n"
      ]
    }
  ],
  "metadata": {
    "celltoolbar": "Create Assignment",
    "kernelspec": {
      "display_name": "Python 3",
      "language": "python",
      "name": "python3"
    },
    "language_info": {
      "codemirror_mode": {
        "name": "ipython",
        "version": 3
      },
      "file_extension": ".py",
      "mimetype": "text/x-python",
      "name": "python",
      "nbconvert_exporter": "python",
      "pygments_lexer": "ipython3",
      "version": "3.7.7"
    },
    "toc": {
      "base_numbering": 1,
      "nav_menu": {},
      "number_sections": true,
      "sideBar": true,
      "skip_h1_title": false,
      "title_cell": "Table of Contents",
      "title_sidebar": "Contents",
      "toc_cell": false,
      "toc_position": {},
      "toc_section_display": true,
      "toc_window_display": true
    },
    "colab": {
      "provenance": []
    }
  },
  "nbformat": 4,
  "nbformat_minor": 0
}